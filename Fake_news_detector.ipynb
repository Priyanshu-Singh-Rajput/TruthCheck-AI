{
  "cells": [
    {
      "cell_type": "markdown",
      "metadata": {
        "id": "view-in-github",
        "colab_type": "text"
      },
      "source": [
        "<a href=\"https://colab.research.google.com/github/Priyanshu-Singh-Rajput/TruthCheck-AI/blob/main/Fake_news_detector.ipynb\" target=\"_parent\"><img src=\"https://colab.research.google.com/assets/colab-badge.svg\" alt=\"Open In Colab\"/></a>"
      ]
    },
    {
      "cell_type": "markdown",
      "metadata": {
        "id": "-_JcAe-bdXmy"
      },
      "source": [
        "Overview\n"
      ]
    },
    {
      "cell_type": "code",
      "source": [],
      "metadata": {
        "id": "O_7aKFELKb3d"
      },
      "execution_count": null,
      "outputs": []
    },
    {
      "cell_type": "markdown",
      "metadata": {
        "id": "MXnDy7rXd_O1"
      },
      "source": [
        "Step 1:installation"
      ]
    },
    {
      "cell_type": "code",
      "execution_count": null,
      "metadata": {
        "colab": {
          "base_uri": "https://localhost:8080/"
        },
        "id": "JlwKSHeAeKG-",
        "outputId": "930d6e71-c9c0-44bb-db42-f8c984080542"
      },
      "outputs": [
        {
          "output_type": "stream",
          "name": "stdout",
          "text": [
            "Collecting en-core-web-sm==3.8.0\n",
            "  Downloading https://github.com/explosion/spacy-models/releases/download/en_core_web_sm-3.8.0/en_core_web_sm-3.8.0-py3-none-any.whl (12.8 MB)\n",
            "\u001b[2K     \u001b[90m━━━━━━━━━━━━━━━━━━━━━━━━━━━━━━━━━━━━━━━━\u001b[0m \u001b[32m12.8/12.8 MB\u001b[0m \u001b[31m48.4 MB/s\u001b[0m eta \u001b[36m0:00:00\u001b[0m\n",
            "\u001b[?25h\u001b[38;5;2m✔ Download and installation successful\u001b[0m\n",
            "You can now load the package via spacy.load('en_core_web_sm')\n",
            "\u001b[38;5;3m⚠ Restart to reload dependencies\u001b[0m\n",
            "If you are in a Jupyter or Colab notebook, you may need to restart Python in\n",
            "order to load all the package's dependencies. You can do this by selecting the\n",
            "'Restart kernel' or 'Restart runtime' option.\n"
          ]
        }
      ],
      "source": [
        "# Core LangChain\n",
        "!pip install -q langchain\n",
        "\n",
        "#NLP Tools\n",
        "!pip install -q spacy\n",
        "\n",
        "#IBM Watson NLP (for NLU or sentiment)\n",
        "!pip install -q ibm-watson\n",
        "\n",
        "#Download SpaCy model\n",
        "!python -m spacy download en_core_web_sm\n",
        "\n",
        "#Download google gen ai\n",
        "!pip install -q -U google-generativeai"
      ]
    },
    {
      "cell_type": "markdown",
      "metadata": {
        "id": "7SZCFSs8eXIL"
      },
      "source": [
        "Step 2:Importing libraries"
      ]
    },
    {
      "cell_type": "code",
      "execution_count": null,
      "metadata": {
        "id": "ogNo8vzKf90M"
      },
      "outputs": [],
      "source": [
        "# Core utilities\n",
        "import os\n",
        "import re\n",
        "\n",
        "# LangChain modular tools\n",
        "from langchain.agents import Tool\n",
        "from langchain.agents import initialize_agent, AgentType\n",
        "\n",
        "# NLP processing\n",
        "import spacy\n",
        "\n",
        "# IBM Watson NLU\n",
        "from ibm_watson import NaturalLanguageUnderstandingV1\n",
        "from ibm_cloud_sdk_core.authenticators import IAMAuthenticator\n",
        "from ibm_watson.natural_language_understanding_v1 import Features, KeywordsOptions, EntitiesOptions\n",
        "\n",
        "#google gen ai\n",
        "import google.generativeai as genai"
      ]
    },
    {
      "cell_type": "markdown",
      "metadata": {
        "id": "EZVYmCBlgJC7"
      },
      "source": [
        "Step 3:Setup API KEYS"
      ]
    },
    {
      "cell_type": "code",
      "execution_count": null,
      "metadata": {
        "colab": {
          "base_uri": "https://localhost:8080/"
        },
        "id": "S8qTy5-DhFH_",
        "outputId": "749694b3-76a9-4685-e7cd-6b1198ec6923"
      },
      "outputs": [
        {
          "name": "stdout",
          "output_type": "stream",
          "text": [
            "🔐 Enter your IBM Watson API Key: ··········\n",
            "🌍 Enter your IBM Watson Service URL: https://api.jp-tok.natural-language-understanding.watson.cloud.ibm.com/instances/0811104a-cf78-4297-b042-5ab96399695c\n",
            "🔐 Enter your Gemini API Key: ··········\n"
          ]
        }
      ],
      "source": [
        "\n",
        "# Securely collect API credentials\n",
        "import getpass\n",
        "\n",
        "watson_api_key = getpass.getpass(\"🔐 Enter your IBM Watson API Key: \")\n",
        "watson_url = input(\"🌍 Enter your IBM Watson Service URL: \").strip()\n",
        "gemini_api_key=getpass.getpass(\"🔐 Enter your Gemini API Key: \")\n",
        "\n",
        "os.environ[\"GEMINI_API_KEY\"] = gemini_api_key\n",
        "\n",
        "# Configure IBM Watson NLU client\n",
        "authenticator = IAMAuthenticator(watson_api_key)\n",
        "nlu = NaturalLanguageUnderstandingV1(\n",
        "    version=\"2021-08-01\",\n",
        "    authenticator=authenticator\n",
        ")\n",
        "nlu.set_service_url(watson_url)"
      ]
    },
    {
      "cell_type": "markdown",
      "metadata": {
        "id": "urj_5fnUh0eG"
      },
      "source": [
        "Step 4: Function to take input from User"
      ]
    },
    {
      "cell_type": "code",
      "execution_count": null,
      "metadata": {
        "colab": {
          "base_uri": "https://localhost:8080/",
          "height": 270,
          "referenced_widgets": [
            "2d3dcccb29914054a0d71140af05797c",
            "1dac6872a3fe4691abff4bae2d7ed4dd",
            "d8f595f408274704a037725bd64c0342",
            "1bf9e87d7bb8493a96c5a613ff78f49d",
            "6a752748116840ada3b75118889e99c2",
            "7994f310940b4f6f8126b3061de2e02e",
            "239ad6c46db5419795ad58d4736d116c",
            "2cb813db05404a3c93ca576810a4d9b3",
            "4f89dc40eb1542e88b60a5087182bbdd",
            "e994c7303ec447b284b8cba24744aae2"
          ]
        },
        "id": "oJlaeOcsntrY",
        "outputId": "fd787110-afca-47d0-9fd2-dfacfdf08f75"
      },
      "outputs": [
        {
          "output_type": "display_data",
          "data": {
            "text/plain": [
              "VBox(children=(Textarea(value='', layout=Layout(height='200px', width='500px'), placeholder='Paste your text h…"
            ],
            "application/vnd.jupyter.widget-view+json": {
              "version_major": 2,
              "version_minor": 0,
              "model_id": "2d3dcccb29914054a0d71140af05797c"
            }
          },
          "metadata": {}
        }
      ],
      "source": [
        "from ipywidgets import Textarea, Button, VBox, Output\n",
        "out = Output()\n",
        "ta = Textarea(placeholder=\"Paste your text here…\", layout={'width':'500px','height':'200px'})\n",
        "btn = Button(description=\"Submit\")\n",
        "def on_submit(b):\n",
        "    with out:\n",
        "        print(\"Received:\", ta.value[:100], \"…\")\n",
        "btn.on_click(on_submit)\n",
        "display(VBox([ta, btn, out]))"
      ]
    },
    {
      "cell_type": "markdown",
      "metadata": {
        "id": "PlBIPjQdoBr9"
      },
      "source": [
        "Step 5: Agent to anaylize Input"
      ]
    },
    {
      "cell_type": "code",
      "execution_count": null,
      "metadata": {
        "id": "bOr3Nyxqop0d"
      },
      "outputs": [],
      "source": [
        "nlp = spacy.load(\"en_core_web_sm\")\n",
        "def preprocess_merged(text: str) -> dict:\n",
        "    # 1. Remove emojis (but keep punctuation!)\n",
        "    raw_text = re.sub(r\"[\\U00010000-\\U0010ffff]\", \"\", text)\n",
        "\n",
        "    # 2. Run spaCy on raw text (for sentence detection + entities)\n",
        "    doc = nlp(raw_text)\n",
        "\n",
        "    # Lemmatized, lowercase, no stop words — for Watson input\n",
        "    clean_tokens = [tok.lemma_.lower()\n",
        "                    for tok in doc\n",
        "                    if tok.is_alpha and not tok.is_stop]\n",
        "    clean_text = \" \".join(clean_tokens)\n",
        "\n",
        "    # Extract entities from spaCy\n",
        "    spacy_entities = {(ent.text, ent.label_) for ent in doc.ents}\n",
        "\n",
        "    # 3. Watson NLU enrichment (on clean text)\n",
        "    resp = nlu.analyze(\n",
        "        text=clean_text,\n",
        "        features=Features(\n",
        "            keywords=KeywordsOptions(limit=10),\n",
        "            entities=EntitiesOptions(limit=10)\n",
        "        )\n",
        "    ).get_result()\n",
        "    watson_keywords = {kw[\"text\"] for kw in resp[\"keywords\"]}\n",
        "    watson_entities = {(ent[\"text\"], ent[\"type\"]) for ent in resp[\"entities\"]}\n",
        "\n",
        "    # 4. Merge & dedupe entities\n",
        "    merged_keywords = list(spacy_entities and watson_keywords or watson_keywords)\n",
        "    merged_entities = list(watson_entities.union(spacy_entities))\n",
        "\n",
        "    return {\n",
        "        \"raw_text\": raw_text,         # ← use this for claim extraction\n",
        "        \"clean_text\": clean_text,     # ← use this for Watson/embeddings\n",
        "        \"keywords\": merged_keywords,\n",
        "        \"entities\": merged_entities\n",
        "    }"
      ]
    },
    {
      "cell_type": "code",
      "execution_count": null,
      "metadata": {
        "colab": {
          "base_uri": "https://localhost:8080/"
        },
        "id": "DjfUzSyAuZBO",
        "outputId": "2b3ca6af-bc54-4144-9435-66b144c1527e"
      },
      "outputs": [
        {
          "output_type": "stream",
          "name": "stdout",
          "text": [
            "Raw Text: A recent study from researchers at Stanford University has sparked widespread discussion after claiming that drinking at least one cup of coffee per day can reduce the risk of developing Alzheimer’s disease by up to 60%. The study, published in the Journal of Neuroscience and Behavior, analyzed over 12,000 medical records and lifestyle surveys across a 10-year period.\n",
            "\n",
            "Lead researcher Dr. Hannah Yuen stated that caffeine appears to have a “neuroprotective effect,” helping to prevent the buildup of amyloid plaques in the brain — a key factor linked to Alzheimer’s. “Our findings suggest that moderate coffee consumption may serve as a preventive measure,” she said.\n",
            "\n",
            "The researchers emphasized that the benefits were most notable in individuals aged 50 and above, with no previous history of neurological disorders. However, the study also notes that the results are correlational, not necessarily causal.\n",
            "\n",
            "The news has gone viral across social media platforms, with many users praising the benefits of coffee. However, several health experts have urged caution, pointing out that other lifestyle factors and genetic predispositions were not fully controlled in the study.\n",
            "Clean Text: recent study researcher stanford university spark widespread discussion claim drink cup coffee day reduce risk develop alzheimer disease study publish journal neuroscience behavior analyze medical record lifestyle survey year period lead researcher hannah yuen state caffeine appear neuroprotective effect help prevent buildup amyloid plaque brain key factor link alzheimer finding suggest moderate coffee consumption serve preventive measure say researcher emphasize benefit notable individual age previous history neurological disorder study note result correlational necessarily causal news go viral social medium platform user praise benefit coffee health expert urge caution point lifestyle factor genetic predisposition fully control study\n",
            "Keywords: ['genetic predisposition', 'previous history', 'alzheimer disease study', 'moderate coffee consumption', 'preventive measure', 'key factor link alzheimer', 'notable individual age', 'journal neuroscience behavior', 'buildup amyloid plaque brain', 'neurological disorder study note result']\n",
            "Entities: [('study researcher', 'JobTitle'), ('researcher', 'JobTitle'), ('at least one', 'CARDINAL'), ('Hannah Yuen', 'PERSON'), ('hannah yuen', 'Person'), ('over 12,000', 'CARDINAL'), ('the Journal of Neuroscience and Behavior', 'ORG'), ('benefit coffee health expert', 'JobTitle'), ('up to 60%', 'PERCENT'), ('10-year', 'DATE'), ('50', 'DATE'), ('Stanford University', 'ORG')]\n"
          ]
        }
      ],
      "source": [
        "result = preprocess_merged(ta.value)\n",
        "print(\"Raw Text:\", result[\"raw_text\"])\n",
        "print(\"Clean Text:\", result[\"clean_text\"])\n",
        "print(\"Keywords:\", result[\"keywords\"])\n",
        "print(\"Entities:\", result[\"entities\"])"
      ]
    },
    {
      "cell_type": "markdown",
      "metadata": {
        "id": "XL1vCeRaojUx"
      },
      "source": [
        "Step 6: Claim Extraction Agent"
      ]
    },
    {
      "cell_type": "code",
      "source": [
        "def extract_claims(text):\n",
        "    doc = nlp(text)\n",
        "    claims = []\n",
        "    for sent in doc.sents:\n",
        "        if sent[-1].text != '?':  # skip questions\n",
        "            if any(tok.dep_ == 'ROOT' and tok.pos_ == 'VERB' for tok in sent):\n",
        "                claims.append(sent.text.strip())\n",
        "    return claims\n",
        "claim_extraction_tool = Tool(\n",
        "    name=\"Claim Extraction Agent\",\n",
        "    func=extract_claims,\n",
        "    description=\"Extracts factual claim-like sentences from cleaned text.\"\n",
        ")"
      ],
      "metadata": {
        "id": "-bf65_u5Oiw7"
      },
      "execution_count": null,
      "outputs": []
    },
    {
      "cell_type": "code",
      "source": [
        "# Directly use the function to check output immediately\n",
        "claims = extract_claims(result[\"raw_text\"])\n",
        "\n",
        "print(\"🔍 Extracted Claims:\")\n",
        "for i, claim in enumerate(claims, 1):\n",
        "    print(f\"{i}. {claim}\")"
      ],
      "metadata": {
        "colab": {
          "base_uri": "https://localhost:8080/"
        },
        "id": "vzW8wOuTPPJZ",
        "outputId": "8725bdda-f2fe-43b4-d34f-896d298dac37"
      },
      "execution_count": null,
      "outputs": [
        {
          "output_type": "stream",
          "name": "stdout",
          "text": [
            "🔍 Extracted Claims:\n",
            "1. A recent study from researchers at Stanford University has sparked widespread discussion after claiming that drinking at least one cup of coffee per day can reduce the risk of developing Alzheimer’s disease by up to 60%.\n",
            "2. Lead researcher Dr. Hannah Yuen stated that caffeine appears to have a “neuroprotective effect,” helping to prevent the buildup of amyloid plaques in the brain — a key factor linked to Alzheimer’s.\n",
            "3. “Our findings suggest that moderate coffee consumption may serve as a preventive measure,” she said.\n",
            "4. The researchers emphasized that the benefits were most notable in individuals aged 50 and above, with no previous history of neurological disorders.\n",
            "5. However, the study also notes that the results are correlational, not necessarily causal.\n",
            "6. The news has gone viral across social media platforms, with many users praising the benefits of coffee.\n",
            "7. However, several health experts have urged caution, pointing out that other lifestyle factors and genetic predispositions were not fully controlled in the study.\n"
          ]
        }
      ]
    },
    {
      "cell_type": "markdown",
      "source": [
        "Step 7: Search and Verdict Agent"
      ],
      "metadata": {
        "id": "YYn4yuNA-06R"
      }
    },
    {
      "cell_type": "code",
      "source": [
        "genai.configure(api_key=os.environ[\"GEMINI_API_KEY\"])\n",
        "model = genai.GenerativeModel(\"gemini-1.5-flash\")\n",
        "def verify_claim_with_gemini(claim: str, keywords: list[str]) -> dict:\n",
        "    search_terms = f\"{claim} {' '.join(keywords)}\"\n",
        "    prompt = f\"\"\"\n",
        "You are a fact-checking assistant.\n",
        "\n",
        "Given the following claim and context keywords, search for up-to-date information and decide if the claim is:\n",
        "-  Supported\n",
        "-  Refuted\n",
        "-  Not Enough Evidence\n",
        "\n",
        "Respond in this format:\n",
        "Verdict: <one of the above>\n",
        "Justification: <one short paragraph based on your reasoning>\n",
        "\n",
        "Claim: \"{claim}\"\n",
        "Keywords: {', '.join(keywords)}\n",
        "\n",
        "Please begin.\n",
        "\"\"\"\n",
        "\n",
        "    response = model.generate_content(prompt)\n",
        "    return {\n",
        "        \"claim\": claim,\n",
        "        \"verdict_response\": response.text\n",
        "    }\n",
        "\n",
        "# Example use with outputs from previous steps:\n",
        "claims = extract_claims(ta.value)\n",
        "keywords = list(result[\"keywords\"])\n",
        "\n",
        "# Run verification\n",
        "verified_claims = [verify_claim_with_gemini(claim, keywords) for claim in claims]\n",
        "\n",
        "# Print results\n",
        "for v in verified_claims:\n",
        "    print(\"\\n🧾 Claim:\", v[\"claim\"])\n",
        "    print(v[\"verdict_response\"])"
      ],
      "metadata": {
        "colab": {
          "base_uri": "https://localhost:8080/",
          "height": 766
        },
        "id": "jakf-Dhd-10z",
        "outputId": "c66bb847-9809-496b-9aa8-35e54d0e1fc3"
      },
      "execution_count": null,
      "outputs": [
        {
          "output_type": "stream",
          "name": "stdout",
          "text": [
            "\n",
            "🧾 Claim: A recent study from researchers at Stanford University has sparked widespread discussion after claiming that drinking at least one cup of coffee per day can reduce the risk of developing Alzheimer’s disease by up to 60%.\n",
            "Verdict: Not Enough Evidence\n",
            "\n",
            "Justification: While there's been considerable research exploring the potential link between coffee consumption and reduced Alzheimer's risk,  a specific Stanford University study claiming a 60% risk reduction with at least one cup of coffee daily is not readily verifiable through a quick search of reputable scientific databases and news sources.  Many studies suggest a correlation, but the causality and the exact percentage reduction remain debated.  The claim needs a citation to a specific published study to be verified.  While coffee's antioxidant properties and potential impact on amyloid-beta plaques are areas of ongoing research,  a claim of such a significant risk reduction requires robust evidence from a peer-reviewed publication.\n",
            "\n",
            "\n",
            "🧾 Claim: Lead researcher Dr. Hannah Yuen stated that caffeine appears to have a “neuroprotective effect,” helping to prevent the buildup of amyloid plaques in the brain — a key factor linked to Alzheimer’s.\n",
            "Verdict: Not Enough Evidence\n",
            "\n",
            "Justification: While there's research suggesting a correlation between moderate coffee consumption and a reduced risk of Alzheimer's disease,  finding direct evidence supporting Dr. Hannah Yuen making *that specific* statement about caffeine's neuroprotective effect on amyloid plaques requires locating the original source of the claim.  A broad search using the provided keywords reveals numerous studies on caffeine and Alzheimer's,  many indicating a potential link, but none definitively attribute a statement about amyloid plaque reduction to a \"Dr. Hannah Yuen\".  Without citing the specific study or publication where this quote originates, the claim cannot be verified or refuted.\n",
            "\n",
            "\n",
            "🧾 Claim: “Our findings suggest that moderate coffee consumption may serve as a preventive measure,” she said.\n",
            "Verdict: Supported\n",
            "\n",
            "Justification: While the provided context lacks a specific study citation, numerous studies published in reputable journals (though not explicitly named \"Journal Neuroscience Behavior\") have linked moderate coffee consumption to a reduced risk of Alzheimer's disease.  These studies often point to the potential mechanisms involving antioxidants and other compounds in coffee that may help protect against the buildup of amyloid plaques in the brain, a key factor in Alzheimer's development.  Therefore, the claim that moderate coffee consumption *may* serve as a preventive measure is supported by existing research, although it's crucial to remember that correlation does not equal causation, and more research is needed to establish a definitive causal link.  The statement uses cautious language (\"may serve as a preventive measure\"), aligning with the current scientific understanding.\n",
            "\n",
            "\n",
            "🧾 Claim: The researchers emphasized that the benefits were most notable in individuals aged 50 and above, with no previous history of neurological disorders.\n",
            "Verdict: Not Enough Evidence\n",
            "\n",
            "Justification:  The provided keywords and claim lack specific details, such as the name of the study, the journal it was published in (despite mentioning \"journal neuroscience behavior\"), or a direct link to the research.  While the keywords suggest a potential study linking moderate coffee consumption to a reduced risk of Alzheimer's, particularly in older adults without pre-existing neurological conditions, this is purely speculative without access to the actual research paper. The claim cannot be verified or refuted without access to the original source material.\n",
            "\n",
            "\n",
            "🧾 Claim: However, the study also notes that the results are correlational, not necessarily causal.\n",
            "Verdict: Supported\n",
            "\n",
            "Justification:  The claim that a study notes a correlation, not necessarily causation, is a common caveat in epidemiological research, especially concerning complex diseases like Alzheimer's.  While many studies may show an association between moderate coffee consumption and a reduced risk of Alzheimer's (indicated by keywords like \"key factor link Alzheimer,\" \"buildup amyloid plaque brain,\" and \"neurological disorder study\"),  a correlational finding inherently means that the observed relationship doesn't definitively prove that coffee consumption *causes* the reduced risk.  The presence of keywords like \"genetic predisposition\" and \"previous history\" further emphasizes the complexity of Alzheimer's etiology and the likelihood that a correlational, rather than causal, conclusion would be drawn.  Therefore, the claim is supported by the general understanding of research limitations in this area.\n",
            "\n",
            "\n",
            "🧾 Claim: The news has gone viral across social media platforms, with many users praising the benefits of coffee.\n",
            "Verdict: Not Enough Evidence\n",
            "\n",
            "Justification: The claim focuses on the virality of news praising coffee's benefits, not on the scientific validity of those benefits regarding Alzheimer's disease.  While research suggests a potential link between moderate coffee consumption and a reduced risk of Alzheimer's, due to its potential impact on amyloid plaque buildup, this claim doesn't provide evidence of widespread social media praise. The keywords mention relevant studies, but  the statement itself only addresses the popularity of the news, not the scientific evidence supporting it.  Therefore, there isn't enough information to support or refute the claim about the news's virality.\n",
            "\n",
            "\n",
            "🧾 Claim: However, several health experts have urged caution, pointing out that other lifestyle factors and genetic predispositions were not fully controlled in the study.\n",
            "Verdict: Supported\n",
            "\n",
            "Justification: While a definitive statement about *all* Alzheimer's disease studies regarding coffee consumption is impossible without specific study references, the claim aligns with common critiques of observational studies on complex diseases like Alzheimer's.  Many factors influence Alzheimer's risk, including genetics, lifestyle choices beyond coffee consumption (diet, exercise, sleep), and pre-existing conditions.  It's reasonable to expect that health experts would express caution about any study that doesn't fully account for these variables, highlighting the limitations of establishing a direct causal link between moderate coffee consumption and Alzheimer's prevention. The keywords suggest the claim refers to a study design shortcoming, which is a valid area for expert concern.\n",
            "\n"
          ]
        }
      ]
    }
  ],
  "metadata": {
    "colab": {
      "provenance": [],
      "include_colab_link": true
    },
    "kernelspec": {
      "display_name": "Python 3",
      "name": "python3"
    },
    "language_info": {
      "name": "python"
    },
    "widgets": {
      "application/vnd.jupyter.widget-state+json": {
        "2d3dcccb29914054a0d71140af05797c": {
          "model_module": "@jupyter-widgets/controls",
          "model_name": "VBoxModel",
          "model_module_version": "1.5.0",
          "state": {
            "_dom_classes": [],
            "_model_module": "@jupyter-widgets/controls",
            "_model_module_version": "1.5.0",
            "_model_name": "VBoxModel",
            "_view_count": null,
            "_view_module": "@jupyter-widgets/controls",
            "_view_module_version": "1.5.0",
            "_view_name": "VBoxView",
            "box_style": "",
            "children": [
              "IPY_MODEL_1dac6872a3fe4691abff4bae2d7ed4dd",
              "IPY_MODEL_d8f595f408274704a037725bd64c0342",
              "IPY_MODEL_1bf9e87d7bb8493a96c5a613ff78f49d"
            ],
            "layout": "IPY_MODEL_6a752748116840ada3b75118889e99c2"
          }
        },
        "1dac6872a3fe4691abff4bae2d7ed4dd": {
          "model_module": "@jupyter-widgets/controls",
          "model_name": "TextareaModel",
          "model_module_version": "1.5.0",
          "state": {
            "_dom_classes": [],
            "_model_module": "@jupyter-widgets/controls",
            "_model_module_version": "1.5.0",
            "_model_name": "TextareaModel",
            "_view_count": null,
            "_view_module": "@jupyter-widgets/controls",
            "_view_module_version": "1.5.0",
            "_view_name": "TextareaView",
            "continuous_update": true,
            "description": "",
            "description_tooltip": null,
            "disabled": false,
            "layout": "IPY_MODEL_7994f310940b4f6f8126b3061de2e02e",
            "placeholder": "Paste your text here…",
            "rows": null,
            "style": "IPY_MODEL_239ad6c46db5419795ad58d4736d116c",
            "value": "A recent study from researchers at Stanford University has sparked widespread discussion after claiming that drinking at least one cup of coffee per day can reduce the risk of developing Alzheimer’s disease by up to 60%. The study, published in the Journal of Neuroscience and Behavior, analyzed over 12,000 medical records and lifestyle surveys across a 10-year period.\n\nLead researcher Dr. Hannah Yuen stated that caffeine appears to have a “neuroprotective effect,” helping to prevent the buildup of amyloid plaques in the brain — a key factor linked to Alzheimer’s. “Our findings suggest that moderate coffee consumption may serve as a preventive measure,” she said.\n\nThe researchers emphasized that the benefits were most notable in individuals aged 50 and above, with no previous history of neurological disorders. However, the study also notes that the results are correlational, not necessarily causal.\n\nThe news has gone viral across social media platforms, with many users praising the benefits of coffee. However, several health experts have urged caution, pointing out that other lifestyle factors and genetic predispositions were not fully controlled in the study."
          }
        },
        "d8f595f408274704a037725bd64c0342": {
          "model_module": "@jupyter-widgets/controls",
          "model_name": "ButtonModel",
          "model_module_version": "1.5.0",
          "state": {
            "_dom_classes": [],
            "_model_module": "@jupyter-widgets/controls",
            "_model_module_version": "1.5.0",
            "_model_name": "ButtonModel",
            "_view_count": null,
            "_view_module": "@jupyter-widgets/controls",
            "_view_module_version": "1.5.0",
            "_view_name": "ButtonView",
            "button_style": "",
            "description": "Submit",
            "disabled": false,
            "icon": "",
            "layout": "IPY_MODEL_2cb813db05404a3c93ca576810a4d9b3",
            "style": "IPY_MODEL_4f89dc40eb1542e88b60a5087182bbdd",
            "tooltip": ""
          }
        },
        "1bf9e87d7bb8493a96c5a613ff78f49d": {
          "model_module": "@jupyter-widgets/output",
          "model_name": "OutputModel",
          "model_module_version": "1.0.0",
          "state": {
            "_dom_classes": [],
            "_model_module": "@jupyter-widgets/output",
            "_model_module_version": "1.0.0",
            "_model_name": "OutputModel",
            "_view_count": null,
            "_view_module": "@jupyter-widgets/output",
            "_view_module_version": "1.0.0",
            "_view_name": "OutputView",
            "layout": "IPY_MODEL_e994c7303ec447b284b8cba24744aae2",
            "msg_id": "",
            "outputs": [
              {
                "output_type": "stream",
                "name": "stdout",
                "text": [
                  "Received: A recent study from researchers at Stanford University has sparked widespread discussion after claim …\n"
                ]
              }
            ]
          }
        },
        "6a752748116840ada3b75118889e99c2": {
          "model_module": "@jupyter-widgets/base",
          "model_name": "LayoutModel",
          "model_module_version": "1.2.0",
          "state": {
            "_model_module": "@jupyter-widgets/base",
            "_model_module_version": "1.2.0",
            "_model_name": "LayoutModel",
            "_view_count": null,
            "_view_module": "@jupyter-widgets/base",
            "_view_module_version": "1.2.0",
            "_view_name": "LayoutView",
            "align_content": null,
            "align_items": null,
            "align_self": null,
            "border": null,
            "bottom": null,
            "display": null,
            "flex": null,
            "flex_flow": null,
            "grid_area": null,
            "grid_auto_columns": null,
            "grid_auto_flow": null,
            "grid_auto_rows": null,
            "grid_column": null,
            "grid_gap": null,
            "grid_row": null,
            "grid_template_areas": null,
            "grid_template_columns": null,
            "grid_template_rows": null,
            "height": null,
            "justify_content": null,
            "justify_items": null,
            "left": null,
            "margin": null,
            "max_height": null,
            "max_width": null,
            "min_height": null,
            "min_width": null,
            "object_fit": null,
            "object_position": null,
            "order": null,
            "overflow": null,
            "overflow_x": null,
            "overflow_y": null,
            "padding": null,
            "right": null,
            "top": null,
            "visibility": null,
            "width": null
          }
        },
        "7994f310940b4f6f8126b3061de2e02e": {
          "model_module": "@jupyter-widgets/base",
          "model_name": "LayoutModel",
          "model_module_version": "1.2.0",
          "state": {
            "_model_module": "@jupyter-widgets/base",
            "_model_module_version": "1.2.0",
            "_model_name": "LayoutModel",
            "_view_count": null,
            "_view_module": "@jupyter-widgets/base",
            "_view_module_version": "1.2.0",
            "_view_name": "LayoutView",
            "align_content": null,
            "align_items": null,
            "align_self": null,
            "border": null,
            "bottom": null,
            "display": null,
            "flex": null,
            "flex_flow": null,
            "grid_area": null,
            "grid_auto_columns": null,
            "grid_auto_flow": null,
            "grid_auto_rows": null,
            "grid_column": null,
            "grid_gap": null,
            "grid_row": null,
            "grid_template_areas": null,
            "grid_template_columns": null,
            "grid_template_rows": null,
            "height": "200px",
            "justify_content": null,
            "justify_items": null,
            "left": null,
            "margin": null,
            "max_height": null,
            "max_width": null,
            "min_height": null,
            "min_width": null,
            "object_fit": null,
            "object_position": null,
            "order": null,
            "overflow": null,
            "overflow_x": null,
            "overflow_y": null,
            "padding": null,
            "right": null,
            "top": null,
            "visibility": null,
            "width": "500px"
          }
        },
        "239ad6c46db5419795ad58d4736d116c": {
          "model_module": "@jupyter-widgets/controls",
          "model_name": "DescriptionStyleModel",
          "model_module_version": "1.5.0",
          "state": {
            "_model_module": "@jupyter-widgets/controls",
            "_model_module_version": "1.5.0",
            "_model_name": "DescriptionStyleModel",
            "_view_count": null,
            "_view_module": "@jupyter-widgets/base",
            "_view_module_version": "1.2.0",
            "_view_name": "StyleView",
            "description_width": ""
          }
        },
        "2cb813db05404a3c93ca576810a4d9b3": {
          "model_module": "@jupyter-widgets/base",
          "model_name": "LayoutModel",
          "model_module_version": "1.2.0",
          "state": {
            "_model_module": "@jupyter-widgets/base",
            "_model_module_version": "1.2.0",
            "_model_name": "LayoutModel",
            "_view_count": null,
            "_view_module": "@jupyter-widgets/base",
            "_view_module_version": "1.2.0",
            "_view_name": "LayoutView",
            "align_content": null,
            "align_items": null,
            "align_self": null,
            "border": null,
            "bottom": null,
            "display": null,
            "flex": null,
            "flex_flow": null,
            "grid_area": null,
            "grid_auto_columns": null,
            "grid_auto_flow": null,
            "grid_auto_rows": null,
            "grid_column": null,
            "grid_gap": null,
            "grid_row": null,
            "grid_template_areas": null,
            "grid_template_columns": null,
            "grid_template_rows": null,
            "height": null,
            "justify_content": null,
            "justify_items": null,
            "left": null,
            "margin": null,
            "max_height": null,
            "max_width": null,
            "min_height": null,
            "min_width": null,
            "object_fit": null,
            "object_position": null,
            "order": null,
            "overflow": null,
            "overflow_x": null,
            "overflow_y": null,
            "padding": null,
            "right": null,
            "top": null,
            "visibility": null,
            "width": null
          }
        },
        "4f89dc40eb1542e88b60a5087182bbdd": {
          "model_module": "@jupyter-widgets/controls",
          "model_name": "ButtonStyleModel",
          "model_module_version": "1.5.0",
          "state": {
            "_model_module": "@jupyter-widgets/controls",
            "_model_module_version": "1.5.0",
            "_model_name": "ButtonStyleModel",
            "_view_count": null,
            "_view_module": "@jupyter-widgets/base",
            "_view_module_version": "1.2.0",
            "_view_name": "StyleView",
            "button_color": null,
            "font_weight": ""
          }
        },
        "e994c7303ec447b284b8cba24744aae2": {
          "model_module": "@jupyter-widgets/base",
          "model_name": "LayoutModel",
          "model_module_version": "1.2.0",
          "state": {
            "_model_module": "@jupyter-widgets/base",
            "_model_module_version": "1.2.0",
            "_model_name": "LayoutModel",
            "_view_count": null,
            "_view_module": "@jupyter-widgets/base",
            "_view_module_version": "1.2.0",
            "_view_name": "LayoutView",
            "align_content": null,
            "align_items": null,
            "align_self": null,
            "border": null,
            "bottom": null,
            "display": null,
            "flex": null,
            "flex_flow": null,
            "grid_area": null,
            "grid_auto_columns": null,
            "grid_auto_flow": null,
            "grid_auto_rows": null,
            "grid_column": null,
            "grid_gap": null,
            "grid_row": null,
            "grid_template_areas": null,
            "grid_template_columns": null,
            "grid_template_rows": null,
            "height": null,
            "justify_content": null,
            "justify_items": null,
            "left": null,
            "margin": null,
            "max_height": null,
            "max_width": null,
            "min_height": null,
            "min_width": null,
            "object_fit": null,
            "object_position": null,
            "order": null,
            "overflow": null,
            "overflow_x": null,
            "overflow_y": null,
            "padding": null,
            "right": null,
            "top": null,
            "visibility": null,
            "width": null
          }
        }
      }
    }
  },
  "nbformat": 4,
  "nbformat_minor": 0
}