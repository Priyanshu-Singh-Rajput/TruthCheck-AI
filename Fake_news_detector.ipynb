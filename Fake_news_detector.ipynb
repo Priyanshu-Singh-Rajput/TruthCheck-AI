{
  "cells": [
    {
      "cell_type": "markdown",
      "metadata": {
        "id": "view-in-github",
        "colab_type": "text"
      },
      "source": [
        "<a href=\"https://colab.research.google.com/github/Priyanshu-Singh-Rajput/TruthCheck-AI/blob/main/Fake_news_detector.ipynb\" target=\"_parent\"><img src=\"https://colab.research.google.com/assets/colab-badge.svg\" alt=\"Open In Colab\"/></a>"
      ]
    },
    {
      "cell_type": "markdown",
      "metadata": {
        "id": "-_JcAe-bdXmy"
      },
      "source": [
        "Overview\n"
      ]
    },
    {
      "cell_type": "code",
      "source": [],
      "metadata": {
        "id": "O_7aKFELKb3d"
      },
      "execution_count": null,
      "outputs": []
    },
    {
      "cell_type": "markdown",
      "metadata": {
        "id": "MXnDy7rXd_O1"
      },
      "source": [
        "Step 1:installation"
      ]
    },
    {
      "cell_type": "code",
      "execution_count": null,
      "metadata": {
        "colab": {
          "base_uri": "https://localhost:8080/"
        },
        "id": "JlwKSHeAeKG-",
        "outputId": "c9cb608a-3493-4d9d-a606-6ad009b48ae8"
      },
      "outputs": [
        {
          "output_type": "stream",
          "name": "stdout",
          "text": [
            "Collecting en-core-web-sm==3.8.0\n",
            "  Downloading https://github.com/explosion/spacy-models/releases/download/en_core_web_sm-3.8.0/en_core_web_sm-3.8.0-py3-none-any.whl (12.8 MB)\n",
            "\u001b[2K     \u001b[90m━━━━━━━━━━━━━━━━━━━━━━━━━━━━━━━━━━━━━━━━\u001b[0m \u001b[32m12.8/12.8 MB\u001b[0m \u001b[31m68.2 MB/s\u001b[0m eta \u001b[36m0:00:00\u001b[0m\n",
            "\u001b[?25h\u001b[38;5;2m✔ Download and installation successful\u001b[0m\n",
            "You can now load the package via spacy.load('en_core_web_sm')\n",
            "\u001b[38;5;3m⚠ Restart to reload dependencies\u001b[0m\n",
            "If you are in a Jupyter or Colab notebook, you may need to restart Python in\n",
            "order to load all the package's dependencies. You can do this by selecting the\n",
            "'Restart kernel' or 'Restart runtime' option.\n"
          ]
        }
      ],
      "source": [
        "# Core LangChain\n",
        "!pip install -q langchain\n",
        "\n",
        "#NLP Tools\n",
        "!pip install -q spacy\n",
        "\n",
        "#IBM Watson NLP (for NLU or sentiment)\n",
        "!pip install -q ibm-watson\n",
        "\n",
        "#Download SpaCy model\n",
        "!python -m spacy download en_core_web_sm\n",
        "\n",
        "#Download google gen ai\n",
        "!pip install -q -U google-generativeai"
      ]
    },
    {
      "cell_type": "markdown",
      "metadata": {
        "id": "7SZCFSs8eXIL"
      },
      "source": [
        "Step 2:Importing libraries"
      ]
    },
    {
      "cell_type": "code",
      "execution_count": null,
      "metadata": {
        "id": "ogNo8vzKf90M"
      },
      "outputs": [],
      "source": [
        "# Core utilities\n",
        "import os\n",
        "import re\n",
        "\n",
        "# LangChain modular tools\n",
        "from langchain.agents import Tool\n",
        "from langchain.agents import initialize_agent, AgentType\n",
        "\n",
        "# NLP processing\n",
        "import spacy\n",
        "\n",
        "# IBM Watson NLU\n",
        "from ibm_watson import NaturalLanguageUnderstandingV1\n",
        "from ibm_cloud_sdk_core.authenticators import IAMAuthenticator\n",
        "from ibm_watson.natural_language_understanding_v1 import Features, KeywordsOptions, EntitiesOptions\n",
        "\n",
        "#google gen ai\n",
        "import google.generativeai as genai"
      ]
    },
    {
      "cell_type": "markdown",
      "metadata": {
        "id": "EZVYmCBlgJC7"
      },
      "source": [
        "Step 3:Setup API KEYS"
      ]
    },
    {
      "cell_type": "code",
      "execution_count": null,
      "metadata": {
        "colab": {
          "base_uri": "https://localhost:8080/",
          "height": 356
        },
        "id": "S8qTy5-DhFH_",
        "outputId": "b8240c32-9d94-4355-f1d1-40c9d4c95504"
      },
      "outputs": [
        {
          "output_type": "error",
          "ename": "KeyboardInterrupt",
          "evalue": "Interrupted by user",
          "traceback": [
            "\u001b[0;31m---------------------------------------------------------------------------\u001b[0m",
            "\u001b[0;31mKeyboardInterrupt\u001b[0m                         Traceback (most recent call last)",
            "\u001b[0;32m/tmp/ipython-input-2718445750.py\u001b[0m in \u001b[0;36m<cell line: 0>\u001b[0;34m()\u001b[0m\n\u001b[1;32m      2\u001b[0m \u001b[0;32mimport\u001b[0m \u001b[0mgetpass\u001b[0m\u001b[0;34m\u001b[0m\u001b[0;34m\u001b[0m\u001b[0m\n\u001b[1;32m      3\u001b[0m \u001b[0;34m\u001b[0m\u001b[0m\n\u001b[0;32m----> 4\u001b[0;31m \u001b[0mwatson_api_key\u001b[0m \u001b[0;34m=\u001b[0m \u001b[0mgetpass\u001b[0m\u001b[0;34m.\u001b[0m\u001b[0mgetpass\u001b[0m\u001b[0;34m(\u001b[0m\u001b[0;34m\"🔐 Enter your IBM Watson API Key: \"\u001b[0m\u001b[0;34m)\u001b[0m\u001b[0;34m\u001b[0m\u001b[0;34m\u001b[0m\u001b[0m\n\u001b[0m\u001b[1;32m      5\u001b[0m \u001b[0mwatson_url\u001b[0m \u001b[0;34m=\u001b[0m \u001b[0minput\u001b[0m\u001b[0;34m(\u001b[0m\u001b[0;34m\"🌍 Enter your IBM Watson Service URL: \"\u001b[0m\u001b[0;34m)\u001b[0m\u001b[0;34m.\u001b[0m\u001b[0mstrip\u001b[0m\u001b[0;34m(\u001b[0m\u001b[0;34m)\u001b[0m\u001b[0;34m\u001b[0m\u001b[0;34m\u001b[0m\u001b[0m\n\u001b[1;32m      6\u001b[0m \u001b[0mgemini_api_key\u001b[0m\u001b[0;34m=\u001b[0m\u001b[0mgetpass\u001b[0m\u001b[0;34m.\u001b[0m\u001b[0mgetpass\u001b[0m\u001b[0;34m(\u001b[0m\u001b[0;34m\"🔐 Enter your Gemini API Key: \"\u001b[0m\u001b[0;34m)\u001b[0m\u001b[0;34m\u001b[0m\u001b[0;34m\u001b[0m\u001b[0m\n",
            "\u001b[0;32m/usr/local/lib/python3.12/dist-packages/ipykernel/kernelbase.py\u001b[0m in \u001b[0;36mgetpass\u001b[0;34m(self, prompt, stream)\u001b[0m\n\u001b[1;32m   1157\u001b[0m                 \u001b[0mstacklevel\u001b[0m\u001b[0;34m=\u001b[0m\u001b[0;36m2\u001b[0m\u001b[0;34m,\u001b[0m\u001b[0;34m\u001b[0m\u001b[0;34m\u001b[0m\u001b[0m\n\u001b[1;32m   1158\u001b[0m             )\n\u001b[0;32m-> 1159\u001b[0;31m         return self._input_request(\n\u001b[0m\u001b[1;32m   1160\u001b[0m             \u001b[0mprompt\u001b[0m\u001b[0;34m,\u001b[0m\u001b[0;34m\u001b[0m\u001b[0;34m\u001b[0m\u001b[0m\n\u001b[1;32m   1161\u001b[0m             \u001b[0mself\u001b[0m\u001b[0;34m.\u001b[0m\u001b[0m_parent_ident\u001b[0m\u001b[0;34m[\u001b[0m\u001b[0;34m\"shell\"\u001b[0m\u001b[0;34m]\u001b[0m\u001b[0;34m,\u001b[0m\u001b[0;34m\u001b[0m\u001b[0;34m\u001b[0m\u001b[0m\n",
            "\u001b[0;32m/usr/local/lib/python3.12/dist-packages/ipykernel/kernelbase.py\u001b[0m in \u001b[0;36m_input_request\u001b[0;34m(self, prompt, ident, parent, password)\u001b[0m\n\u001b[1;32m   1217\u001b[0m             \u001b[0;32mexcept\u001b[0m \u001b[0mKeyboardInterrupt\u001b[0m\u001b[0;34m:\u001b[0m\u001b[0;34m\u001b[0m\u001b[0;34m\u001b[0m\u001b[0m\n\u001b[1;32m   1218\u001b[0m                 \u001b[0;31m# re-raise KeyboardInterrupt, to truncate traceback\u001b[0m\u001b[0;34m\u001b[0m\u001b[0;34m\u001b[0m\u001b[0m\n\u001b[0;32m-> 1219\u001b[0;31m                 \u001b[0;32mraise\u001b[0m \u001b[0mKeyboardInterrupt\u001b[0m\u001b[0;34m(\u001b[0m\u001b[0;34m\"Interrupted by user\"\u001b[0m\u001b[0;34m)\u001b[0m \u001b[0;32mfrom\u001b[0m \u001b[0;32mNone\u001b[0m\u001b[0;34m\u001b[0m\u001b[0;34m\u001b[0m\u001b[0m\n\u001b[0m\u001b[1;32m   1220\u001b[0m             \u001b[0;32mexcept\u001b[0m \u001b[0mException\u001b[0m\u001b[0;34m:\u001b[0m\u001b[0;34m\u001b[0m\u001b[0;34m\u001b[0m\u001b[0m\n\u001b[1;32m   1221\u001b[0m                 \u001b[0mself\u001b[0m\u001b[0;34m.\u001b[0m\u001b[0mlog\u001b[0m\u001b[0;34m.\u001b[0m\u001b[0mwarning\u001b[0m\u001b[0;34m(\u001b[0m\u001b[0;34m\"Invalid Message:\"\u001b[0m\u001b[0;34m,\u001b[0m \u001b[0mexc_info\u001b[0m\u001b[0;34m=\u001b[0m\u001b[0;32mTrue\u001b[0m\u001b[0;34m)\u001b[0m\u001b[0;34m\u001b[0m\u001b[0;34m\u001b[0m\u001b[0m\n",
            "\u001b[0;31mKeyboardInterrupt\u001b[0m: Interrupted by user"
          ]
        }
      ],
      "source": [
        "\n",
        "# Securely collect API credentials\n",
        "import getpass\n",
        "\n",
        "watson_api_key = getpass.getpass(\"🔐 Enter your IBM Watson API Key: \")\n",
        "watson_url = input(\"🌍 Enter your IBM Watson Service URL: \").strip()\n",
        "gemini_api_key=getpass.getpass(\"🔐 Enter your Gemini API Key: \")\n",
        "\n",
        "os.environ[\"GEMINI_API_KEY\"] = gemini_api_key\n",
        "\n",
        "# Configure IBM Watson NLU client\n",
        "authenticator = IAMAuthenticator(watson_api_key)\n",
        "nlu = NaturalLanguageUnderstandingV1(\n",
        "    version=\"2021-08-01\",\n",
        "    authenticator=authenticator\n",
        ")\n",
        "nlu.set_service_url(watson_url)"
      ]
    },
    {
      "cell_type": "markdown",
      "metadata": {
        "id": "urj_5fnUh0eG"
      },
      "source": [
        "Step 4: Function to take input from User"
      ]
    },
    {
      "cell_type": "code",
      "execution_count": null,
      "metadata": {
        "colab": {
          "base_uri": "https://localhost:8080/",
          "height": 270,
          "referenced_widgets": [
            "38e173f6d75e45b387479c01fbec291b",
            "918295a9bc6b41a9a37e86ae1fa69c7e",
            "cdf510c07f7049ceab7c145f7bae0452",
            "cb3be0db571540bbb07900977e42f2ab",
            "b1dafeee45dc4cdc83c13bdc03c361c0",
            "56f10e4b26274fdb8107e5f1edf41306",
            "434be1af9340479090a4440021b00551",
            "644d1133ce4c45b7a4217ea79b322eb6",
            "0c523f5f9e334bd6896273c3805548ba",
            "f93e2dbb3e344572953ca640dd7937c5"
          ]
        },
        "id": "oJlaeOcsntrY",
        "outputId": "54a84420-208d-4136-b75e-694894298e04"
      },
      "outputs": [
        {
          "output_type": "display_data",
          "data": {
            "text/plain": [
              "VBox(children=(Textarea(value='', layout=Layout(height='200px', width='500px'), placeholder='Paste your text h…"
            ],
            "application/vnd.jupyter.widget-view+json": {
              "version_major": 2,
              "version_minor": 0,
              "model_id": "38e173f6d75e45b387479c01fbec291b"
            }
          },
          "metadata": {}
        }
      ],
      "source": [
        "from ipywidgets import Textarea, Button, VBox, Output\n",
        "out = Output()\n",
        "ta = Textarea(placeholder=\"Paste your text here…\", layout={'width':'500px','height':'200px'})\n",
        "btn = Button(description=\"Submit\")\n",
        "def on_submit(b):\n",
        "    with out:\n",
        "        print(\"Received:\", ta.value[:100], \"…\")\n",
        "btn.on_click(on_submit)\n",
        "display(VBox([ta, btn, out]))"
      ]
    },
    {
      "cell_type": "markdown",
      "metadata": {
        "id": "PlBIPjQdoBr9"
      },
      "source": [
        "Step 5: Agent to anaylize Input"
      ]
    },
    {
      "cell_type": "code",
      "execution_count": null,
      "metadata": {
        "id": "bOr3Nyxqop0d"
      },
      "outputs": [],
      "source": [
        "nlp = spacy.load(\"en_core_web_sm\")\n",
        "def preprocess_merged(text: str) -> dict:\n",
        "    # 1. Remove emojis (but keep punctuation!)\n",
        "    raw_text = re.sub(r\"[\\U00010000-\\U0010ffff]\", \"\", text)\n",
        "\n",
        "    # 2. Run spaCy on raw text (for sentence detection + entities)\n",
        "    doc = nlp(raw_text)\n",
        "\n",
        "    # Lemmatized, lowercase, no stop words — for Watson input\n",
        "    clean_tokens = [tok.lemma_.lower()\n",
        "                    for tok in doc\n",
        "                    if tok.is_alpha and not tok.is_stop]\n",
        "    clean_text = \" \".join(clean_tokens)\n",
        "\n",
        "    # Extract entities from spaCy\n",
        "    spacy_entities = {(ent.text, ent.label_) for ent in doc.ents}\n",
        "\n",
        "    # 3. Watson NLU enrichment (on clean text)\n",
        "    resp = nlu.analyze(\n",
        "        text=clean_text,\n",
        "        features=Features(\n",
        "            keywords=KeywordsOptions(limit=10),\n",
        "            entities=EntitiesOptions(limit=10)\n",
        "        )\n",
        "    ).get_result()\n",
        "    watson_keywords = {kw[\"text\"] for kw in resp[\"keywords\"]}\n",
        "    watson_entities = {(ent[\"text\"], ent[\"type\"]) for ent in resp[\"entities\"]}\n",
        "\n",
        "    # 4. Merge & dedupe entities\n",
        "    merged_keywords = list(spacy_entities and watson_keywords or watson_keywords)\n",
        "    merged_entities = list(watson_entities.union(spacy_entities))\n",
        "\n",
        "    return {\n",
        "        \"raw_text\": raw_text,         # ← use this for claim extraction\n",
        "        \"clean_text\": clean_text,     # ← use this for Watson/embeddings\n",
        "        \"keywords\": merged_keywords,\n",
        "        \"entities\": merged_entities\n",
        "    }"
      ]
    },
    {
      "cell_type": "code",
      "execution_count": null,
      "metadata": {
        "colab": {
          "base_uri": "https://localhost:8080/"
        },
        "id": "DjfUzSyAuZBO",
        "outputId": "4099a065-7b12-4f5b-93bb-3ecb265b947d"
      },
      "outputs": [
        {
          "output_type": "stream",
          "name": "stdout",
          "text": [
            "Raw Text: A recent study from researchers at Stanford University has sparked widespread discussion after claiming that drinking at least one cup of coffee per day can reduce the risk of developing Alzheimer’s disease by up to 60%. The study, published in the Journal of Neuroscience and Behavior, analyzed over 12,000 medical records and lifestyle surveys across a 10-year period.\n",
            "\n",
            "Lead researcher Dr. Hannah Yuen stated that caffeine appears to have a “neuroprotective effect,” helping to prevent the buildup of amyloid plaques in the brain — a key factor linked to Alzheimer’s. “Our findings suggest that moderate coffee consumption may serve as a preventive measure,” she said.\n",
            "\n",
            "The researchers emphasized that the benefits were most notable in individuals aged 50 and above, with no previous history of neurological disorders. However, the study also notes that the results are correlational, not necessarily causal.\n",
            "\n",
            "The news has gone viral across social media platforms, with many users praising the benefits of coffee. However, several health experts have urged caution, pointing out that other lifestyle factors and genetic predispositions were not fully controlled in the study.\n",
            "\n",
            "\n",
            "Clean Text: recent study researcher stanford university spark widespread discussion claim drink cup coffee day reduce risk develop alzheimer disease study publish journal neuroscience behavior analyze medical record lifestyle survey year period lead researcher hannah yuen state caffeine appear neuroprotective effect help prevent buildup amyloid plaque brain key factor link alzheimer finding suggest moderate coffee consumption serve preventive measure say researcher emphasize benefit notable individual age previous history neurological disorder study note result correlational necessarily causal news go viral social medium platform user praise benefit coffee health expert urge caution point lifestyle factor genetic predisposition fully control study\n",
            "Keywords: ['buildup amyloid plaque brain', 'key factor link alzheimer', 'notable individual age', 'genetic predisposition', 'alzheimer disease study', 'neurological disorder study note result', 'moderate coffee consumption', 'journal neuroscience behavior', 'previous history', 'preventive measure']\n",
            "Entities: [('hannah yuen', 'Person'), ('10-year', 'DATE'), ('at least one', 'CARDINAL'), ('the Journal of Neuroscience and Behavior', 'ORG'), ('benefit coffee health expert', 'JobTitle'), ('50', 'DATE'), ('Stanford University', 'ORG'), ('up to 60%', 'PERCENT'), ('researcher', 'JobTitle'), ('over 12,000', 'CARDINAL'), ('study researcher', 'JobTitle'), ('Hannah Yuen', 'PERSON')]\n"
          ]
        }
      ],
      "source": [
        "result = preprocess_merged(ta.value)\n",
        "print(\"Raw Text:\", result[\"raw_text\"])\n",
        "print(\"Clean Text:\", result[\"clean_text\"])\n",
        "print(\"Keywords:\", result[\"keywords\"])\n",
        "print(\"Entities:\", result[\"entities\"])"
      ]
    },
    {
      "cell_type": "markdown",
      "metadata": {
        "id": "XL1vCeRaojUx"
      },
      "source": [
        "Step 6: Claim Extraction Agent"
      ]
    },
    {
      "cell_type": "code",
      "source": [
        "def extract_claims(text):\n",
        "    doc = nlp(text)\n",
        "    claims = []\n",
        "    for sent in doc.sents:\n",
        "        if sent[-1].text != '?':  # skip questions\n",
        "            if any(tok.dep_ == 'ROOT' and tok.pos_ == 'VERB' for tok in sent):\n",
        "                claims.append(sent.text.strip())\n",
        "    return claims\n",
        "claim_extraction_tool = Tool(\n",
        "    name=\"Claim Extraction Agent\",\n",
        "    func=extract_claims,\n",
        "    description=\"Extracts factual claim-like sentences from cleaned text.\"\n",
        ")"
      ],
      "metadata": {
        "id": "-bf65_u5Oiw7"
      },
      "execution_count": null,
      "outputs": []
    },
    {
      "cell_type": "code",
      "source": [
        "# Directly use the function to check output immediately\n",
        "claims = extract_claims(result[\"raw_text\"])\n",
        "\n",
        "print(\"🔍 Extracted Claims:\")\n",
        "for i, claim in enumerate(claims, 1):\n",
        "    print(f\"{i}. {claim}\")"
      ],
      "metadata": {
        "colab": {
          "base_uri": "https://localhost:8080/"
        },
        "id": "vzW8wOuTPPJZ",
        "outputId": "44b04bf5-3ead-418e-df36-f94e51094e29"
      },
      "execution_count": null,
      "outputs": [
        {
          "output_type": "stream",
          "name": "stdout",
          "text": [
            "🔍 Extracted Claims:\n",
            "1. A recent study from researchers at Stanford University has sparked widespread discussion after claiming that drinking at least one cup of coffee per day can reduce the risk of developing Alzheimer’s disease by up to 60%.\n",
            "2. Lead researcher Dr. Hannah Yuen stated that caffeine appears to have a “neuroprotective effect,” helping to prevent the buildup of amyloid plaques in the brain — a key factor linked to Alzheimer’s.\n",
            "3. “Our findings suggest that moderate coffee consumption may serve as a preventive measure,” she said.\n",
            "4. The researchers emphasized that the benefits were most notable in individuals aged 50 and above, with no previous history of neurological disorders.\n",
            "5. However, the study also notes that the results are correlational, not necessarily causal.\n",
            "6. The news has gone viral across social media platforms, with many users praising the benefits of coffee.\n",
            "7. However, several health experts have urged caution, pointing out that other lifestyle factors and genetic predispositions were not fully controlled in the study.\n"
          ]
        }
      ]
    },
    {
      "cell_type": "markdown",
      "source": [
        "Step 7: Search and Verdict Agent"
      ],
      "metadata": {
        "id": "YYn4yuNA-06R"
      }
    },
    {
      "cell_type": "code",
      "source": [
        "genai.configure(api_key=os.environ[\"GEMINI_API_KEY\"])\n",
        "model = genai.GenerativeModel(\"gemini-1.5-flash\")\n",
        "def verify_claim_with_gemini(claim: str, keywords: list[str]) -> dict:\n",
        "    search_terms = f\"{claim} {' '.join(keywords)}\"\n",
        "    prompt = f\"\"\"\n",
        "You are a fact-checking assistant.\n",
        "\n",
        "Given the following claim and context keywords, search for up-to-date information and decide if the claim is:\n",
        "-  Supported\n",
        "-  Refuted\n",
        "-  Not Enough Evidence\n",
        "\n",
        "Respond in this format:\n",
        "Verdict: <one of the above>\n",
        "Justification: <one short paragraph based on your reasoning>\n",
        "\n",
        "Claim: \"{claim}\"\n",
        "Keywords: {', '.join(keywords)}\n",
        "\n",
        "Please begin.\n",
        "\"\"\"\n",
        "\n",
        "    response = model.generate_content(prompt)\n",
        "    return {\n",
        "        \"claim\": claim,\n",
        "        \"verdict_response\": response.text\n",
        "    }\n",
        "\n",
        "# Example use with outputs from previous steps:\n",
        "claims = extract_claims(ta.value)\n",
        "keywords = list(result[\"keywords\"])\n",
        "\n",
        "# Run verification\n",
        "verified_claims = [verify_claim_with_gemini(claim, keywords) for claim in claims]\n",
        "\n",
        "# Print results\n",
        "for v in verified_claims:\n",
        "    print(\"\\n🧾 Claim:\", v[\"claim\"])\n",
        "    print(v[\"verdict_response\"])"
      ],
      "metadata": {
        "colab": {
          "base_uri": "https://localhost:8080/",
          "height": 766
        },
        "id": "jakf-Dhd-10z",
        "outputId": "76a2726d-73fd-438a-ea68-2909a8b5f781"
      },
      "execution_count": null,
      "outputs": [
        {
          "output_type": "stream",
          "name": "stdout",
          "text": [
            "\n",
            "🧾 Claim: A recent study from researchers at Stanford University has sparked widespread discussion after claiming that drinking at least one cup of coffee per day can reduce the risk of developing Alzheimer’s disease by up to 60%.\n",
            "Verdict: Not Enough Evidence\n",
            "\n",
            "Justification: While numerous studies have explored the correlation between coffee consumption and reduced Alzheimer's risk,  a specific Stanford University study claiming a 60% reduction with at least one cup daily is not readily verifiable through a quick search of reputable scientific journals or news sources focused on Alzheimer's research.  While some studies suggest a potential link between moderate coffee consumption and a decreased risk of developing Alzheimer's,  the magnitude of the effect (60% reduction) cited in the claim is exceptionally high and requires corroboration from a published, peer-reviewed study.  The absence of such a readily available study from Stanford University or a prominent scientific journal leads to a verdict of \"Not Enough Evidence.\"\n",
            "\n",
            "\n",
            "🧾 Claim: Lead researcher Dr. Hannah Yuen stated that caffeine appears to have a “neuroprotective effect,” helping to prevent the buildup of amyloid plaques in the brain — a key factor linked to Alzheimer’s.\n",
            "Verdict: Not Enough Evidence\n",
            "\n",
            "Justification: While research suggests a correlation between moderate coffee consumption and a reduced risk of Alzheimer's disease,  finding a definitive statement from a \"Dr. Hannah Yuen\" claiming a \"neuroprotective effect\" of caffeine preventing amyloid plaque buildup requires specific sourcing.  The keywords provided do not yield a readily accessible, verifiable source confirming this exact claim.  Many studies explore the link between caffeine and Alzheimer's, often noting potential benefits, but directly attributing a specific statement to a named researcher necessitates further information like the study's title, publication date, and journal to confirm the claim's accuracy.\n",
            "\n",
            "\n",
            "🧾 Claim: “Our findings suggest that moderate coffee consumption may serve as a preventive measure,” she said.\n",
            "Verdict: Supported\n",
            "\n",
            "Justification: While a single quote lacks the full context of a study, numerous studies published in peer-reviewed journals, including those focusing on neuroscience and behavior, have shown a correlation between moderate coffee consumption and a reduced risk of Alzheimer's disease.  These studies often point to coffee's potential impact on amyloid-beta plaque buildup in the brain, a key factor linked to Alzheimer's.  It's important to note that correlation doesn't equal causation, and more research is needed to fully understand the mechanism. However, the existing body of research generally lends support to the claim that moderate coffee consumption *may* be a preventive measure, aligning with the quoted statement.\n",
            "\n",
            "\n",
            "🧾 Claim: The researchers emphasized that the benefits were most notable in individuals aged 50 and above, with no previous history of neurological disorders.\n",
            "Verdict: Not Enough Evidence\n",
            "\n",
            "Justification:  The provided keywords and claim lack sufficient information to verify the assertion. While the keywords suggest a study relating coffee consumption, amyloid plaques, and Alzheimer's disease,  they don't specify a particular study or provide a source to corroborate the claim about benefits being most notable in individuals aged 50 and above with no previous neurological disorders.  To verify the claim, the specific journal article (\"journal neuroscience behavior\") and study details would need to be identified and reviewed.  Without this information, it's impossible to determine if the researchers made this specific statement regarding age and prior neurological history.\n",
            "\n",
            "\n",
            "🧾 Claim: However, the study also notes that the results are correlational, not necessarily causal.\n",
            "Verdict: Supported\n",
            "\n",
            "Justification: The claim that a study notes a correlational, not causal, relationship is plausible given the context keywords.  Studies on Alzheimer's disease frequently find correlations between factors like amyloid plaque buildup, age, and genetic predisposition, but establishing direct causation is extremely challenging.  The keywords suggest a study investigating a potential link between coffee consumption and Alzheimer's, a topic where correlational findings are common due to the complex interplay of genetic, environmental, and lifestyle factors impacting disease development.  While a specific study isn't cited, the nature of Alzheimer's research supports the likelihood of a study acknowledging the limitations of correlational data and the difficulty in proving causality.\n",
            "\n",
            "\n",
            "🧾 Claim: The news has gone viral across social media platforms, with many users praising the benefits of coffee.\n",
            "Verdict: Not Enough Evidence\n",
            "\n",
            "Justification: While there is research suggesting a potential correlation between moderate coffee consumption and a reduced risk of Alzheimer's disease, due to coffee's potential impact on amyloid plaque buildup, the claim that news of this has \"gone viral across social media platforms, with many users praising the benefits\" is not supported by readily available evidence.  A search for recent news articles or social media trends related to this topic doesn't reveal widespread viral dissemination of this specific finding.  While studies exist linking coffee consumption to potential neuroprotective effects,  the claim lacks evidence of the widespread social media praise it asserts.\n",
            "\n",
            "\n",
            "🧾 Claim: However, several health experts have urged caution, pointing out that other lifestyle factors and genetic predispositions were not fully controlled in the study.\n",
            "Verdict: Supported\n",
            "\n",
            "Justification: While many studies suggest a correlation between moderate coffee consumption and a reduced risk of Alzheimer's disease,  it's true that concerns remain regarding confounding factors.  The claim that health experts highlight the lack of complete control over lifestyle factors (beyond coffee consumption) and genetic predispositions in such studies is accurate.  Alzheimer's disease is complex, with multiple contributing factors, and isolating the impact of coffee alone is challenging.  Therefore,  while associations are observed,  causation isn't definitively established, and the need for further research accounting for other variables is widely acknowledged within the scientific community.\n",
            "\n"
          ]
        }
      ]
    }
  ],
  "metadata": {
    "colab": {
      "provenance": [],
      "include_colab_link": true
    },
    "kernelspec": {
      "display_name": "Python 3",
      "name": "python3"
    },
    "language_info": {
      "name": "python"
    },
    "widgets": {
      "application/vnd.jupyter.widget-state+json": {
        "38e173f6d75e45b387479c01fbec291b": {
          "model_module": "@jupyter-widgets/controls",
          "model_name": "VBoxModel",
          "model_module_version": "1.5.0",
          "state": {
            "_dom_classes": [],
            "_model_module": "@jupyter-widgets/controls",
            "_model_module_version": "1.5.0",
            "_model_name": "VBoxModel",
            "_view_count": null,
            "_view_module": "@jupyter-widgets/controls",
            "_view_module_version": "1.5.0",
            "_view_name": "VBoxView",
            "box_style": "",
            "children": [
              "IPY_MODEL_918295a9bc6b41a9a37e86ae1fa69c7e",
              "IPY_MODEL_cdf510c07f7049ceab7c145f7bae0452",
              "IPY_MODEL_cb3be0db571540bbb07900977e42f2ab"
            ],
            "layout": "IPY_MODEL_b1dafeee45dc4cdc83c13bdc03c361c0"
          }
        },
        "918295a9bc6b41a9a37e86ae1fa69c7e": {
          "model_module": "@jupyter-widgets/controls",
          "model_name": "TextareaModel",
          "model_module_version": "1.5.0",
          "state": {
            "_dom_classes": [],
            "_model_module": "@jupyter-widgets/controls",
            "_model_module_version": "1.5.0",
            "_model_name": "TextareaModel",
            "_view_count": null,
            "_view_module": "@jupyter-widgets/controls",
            "_view_module_version": "1.5.0",
            "_view_name": "TextareaView",
            "continuous_update": true,
            "description": "",
            "description_tooltip": null,
            "disabled": false,
            "layout": "IPY_MODEL_56f10e4b26274fdb8107e5f1edf41306",
            "placeholder": "Paste your text here…",
            "rows": null,
            "style": "IPY_MODEL_434be1af9340479090a4440021b00551",
            "value": "A recent study from researchers at Stanford University has sparked widespread discussion after claiming that drinking at least one cup of coffee per day can reduce the risk of developing Alzheimer’s disease by up to 60%. The study, published in the Journal of Neuroscience and Behavior, analyzed over 12,000 medical records and lifestyle surveys across a 10-year period.\n\nLead researcher Dr. Hannah Yuen stated that caffeine appears to have a “neuroprotective effect,” helping to prevent the buildup of amyloid plaques in the brain — a key factor linked to Alzheimer’s. “Our findings suggest that moderate coffee consumption may serve as a preventive measure,” she said.\n\nThe researchers emphasized that the benefits were most notable in individuals aged 50 and above, with no previous history of neurological disorders. However, the study also notes that the results are correlational, not necessarily causal.\n\nThe news has gone viral across social media platforms, with many users praising the benefits of coffee. However, several health experts have urged caution, pointing out that other lifestyle factors and genetic predispositions were not fully controlled in the study.\n\n"
          }
        },
        "cdf510c07f7049ceab7c145f7bae0452": {
          "model_module": "@jupyter-widgets/controls",
          "model_name": "ButtonModel",
          "model_module_version": "1.5.0",
          "state": {
            "_dom_classes": [],
            "_model_module": "@jupyter-widgets/controls",
            "_model_module_version": "1.5.0",
            "_model_name": "ButtonModel",
            "_view_count": null,
            "_view_module": "@jupyter-widgets/controls",
            "_view_module_version": "1.5.0",
            "_view_name": "ButtonView",
            "button_style": "",
            "description": "Submit",
            "disabled": false,
            "icon": "",
            "layout": "IPY_MODEL_644d1133ce4c45b7a4217ea79b322eb6",
            "style": "IPY_MODEL_0c523f5f9e334bd6896273c3805548ba",
            "tooltip": ""
          }
        },
        "cb3be0db571540bbb07900977e42f2ab": {
          "model_module": "@jupyter-widgets/output",
          "model_name": "OutputModel",
          "model_module_version": "1.0.0",
          "state": {
            "_dom_classes": [],
            "_model_module": "@jupyter-widgets/output",
            "_model_module_version": "1.0.0",
            "_model_name": "OutputModel",
            "_view_count": null,
            "_view_module": "@jupyter-widgets/output",
            "_view_module_version": "1.0.0",
            "_view_name": "OutputView",
            "layout": "IPY_MODEL_f93e2dbb3e344572953ca640dd7937c5",
            "msg_id": "",
            "outputs": [
              {
                "output_type": "stream",
                "name": "stdout",
                "text": [
                  "Received: A recent study from researchers at Stanford University has sparked widespread discussion after claim …\n"
                ]
              }
            ]
          }
        },
        "b1dafeee45dc4cdc83c13bdc03c361c0": {
          "model_module": "@jupyter-widgets/base",
          "model_name": "LayoutModel",
          "model_module_version": "1.2.0",
          "state": {
            "_model_module": "@jupyter-widgets/base",
            "_model_module_version": "1.2.0",
            "_model_name": "LayoutModel",
            "_view_count": null,
            "_view_module": "@jupyter-widgets/base",
            "_view_module_version": "1.2.0",
            "_view_name": "LayoutView",
            "align_content": null,
            "align_items": null,
            "align_self": null,
            "border": null,
            "bottom": null,
            "display": null,
            "flex": null,
            "flex_flow": null,
            "grid_area": null,
            "grid_auto_columns": null,
            "grid_auto_flow": null,
            "grid_auto_rows": null,
            "grid_column": null,
            "grid_gap": null,
            "grid_row": null,
            "grid_template_areas": null,
            "grid_template_columns": null,
            "grid_template_rows": null,
            "height": null,
            "justify_content": null,
            "justify_items": null,
            "left": null,
            "margin": null,
            "max_height": null,
            "max_width": null,
            "min_height": null,
            "min_width": null,
            "object_fit": null,
            "object_position": null,
            "order": null,
            "overflow": null,
            "overflow_x": null,
            "overflow_y": null,
            "padding": null,
            "right": null,
            "top": null,
            "visibility": null,
            "width": null
          }
        },
        "56f10e4b26274fdb8107e5f1edf41306": {
          "model_module": "@jupyter-widgets/base",
          "model_name": "LayoutModel",
          "model_module_version": "1.2.0",
          "state": {
            "_model_module": "@jupyter-widgets/base",
            "_model_module_version": "1.2.0",
            "_model_name": "LayoutModel",
            "_view_count": null,
            "_view_module": "@jupyter-widgets/base",
            "_view_module_version": "1.2.0",
            "_view_name": "LayoutView",
            "align_content": null,
            "align_items": null,
            "align_self": null,
            "border": null,
            "bottom": null,
            "display": null,
            "flex": null,
            "flex_flow": null,
            "grid_area": null,
            "grid_auto_columns": null,
            "grid_auto_flow": null,
            "grid_auto_rows": null,
            "grid_column": null,
            "grid_gap": null,
            "grid_row": null,
            "grid_template_areas": null,
            "grid_template_columns": null,
            "grid_template_rows": null,
            "height": "200px",
            "justify_content": null,
            "justify_items": null,
            "left": null,
            "margin": null,
            "max_height": null,
            "max_width": null,
            "min_height": null,
            "min_width": null,
            "object_fit": null,
            "object_position": null,
            "order": null,
            "overflow": null,
            "overflow_x": null,
            "overflow_y": null,
            "padding": null,
            "right": null,
            "top": null,
            "visibility": null,
            "width": "500px"
          }
        },
        "434be1af9340479090a4440021b00551": {
          "model_module": "@jupyter-widgets/controls",
          "model_name": "DescriptionStyleModel",
          "model_module_version": "1.5.0",
          "state": {
            "_model_module": "@jupyter-widgets/controls",
            "_model_module_version": "1.5.0",
            "_model_name": "DescriptionStyleModel",
            "_view_count": null,
            "_view_module": "@jupyter-widgets/base",
            "_view_module_version": "1.2.0",
            "_view_name": "StyleView",
            "description_width": ""
          }
        },
        "644d1133ce4c45b7a4217ea79b322eb6": {
          "model_module": "@jupyter-widgets/base",
          "model_name": "LayoutModel",
          "model_module_version": "1.2.0",
          "state": {
            "_model_module": "@jupyter-widgets/base",
            "_model_module_version": "1.2.0",
            "_model_name": "LayoutModel",
            "_view_count": null,
            "_view_module": "@jupyter-widgets/base",
            "_view_module_version": "1.2.0",
            "_view_name": "LayoutView",
            "align_content": null,
            "align_items": null,
            "align_self": null,
            "border": null,
            "bottom": null,
            "display": null,
            "flex": null,
            "flex_flow": null,
            "grid_area": null,
            "grid_auto_columns": null,
            "grid_auto_flow": null,
            "grid_auto_rows": null,
            "grid_column": null,
            "grid_gap": null,
            "grid_row": null,
            "grid_template_areas": null,
            "grid_template_columns": null,
            "grid_template_rows": null,
            "height": null,
            "justify_content": null,
            "justify_items": null,
            "left": null,
            "margin": null,
            "max_height": null,
            "max_width": null,
            "min_height": null,
            "min_width": null,
            "object_fit": null,
            "object_position": null,
            "order": null,
            "overflow": null,
            "overflow_x": null,
            "overflow_y": null,
            "padding": null,
            "right": null,
            "top": null,
            "visibility": null,
            "width": null
          }
        },
        "0c523f5f9e334bd6896273c3805548ba": {
          "model_module": "@jupyter-widgets/controls",
          "model_name": "ButtonStyleModel",
          "model_module_version": "1.5.0",
          "state": {
            "_model_module": "@jupyter-widgets/controls",
            "_model_module_version": "1.5.0",
            "_model_name": "ButtonStyleModel",
            "_view_count": null,
            "_view_module": "@jupyter-widgets/base",
            "_view_module_version": "1.2.0",
            "_view_name": "StyleView",
            "button_color": null,
            "font_weight": ""
          }
        },
        "f93e2dbb3e344572953ca640dd7937c5": {
          "model_module": "@jupyter-widgets/base",
          "model_name": "LayoutModel",
          "model_module_version": "1.2.0",
          "state": {
            "_model_module": "@jupyter-widgets/base",
            "_model_module_version": "1.2.0",
            "_model_name": "LayoutModel",
            "_view_count": null,
            "_view_module": "@jupyter-widgets/base",
            "_view_module_version": "1.2.0",
            "_view_name": "LayoutView",
            "align_content": null,
            "align_items": null,
            "align_self": null,
            "border": null,
            "bottom": null,
            "display": null,
            "flex": null,
            "flex_flow": null,
            "grid_area": null,
            "grid_auto_columns": null,
            "grid_auto_flow": null,
            "grid_auto_rows": null,
            "grid_column": null,
            "grid_gap": null,
            "grid_row": null,
            "grid_template_areas": null,
            "grid_template_columns": null,
            "grid_template_rows": null,
            "height": null,
            "justify_content": null,
            "justify_items": null,
            "left": null,
            "margin": null,
            "max_height": null,
            "max_width": null,
            "min_height": null,
            "min_width": null,
            "object_fit": null,
            "object_position": null,
            "order": null,
            "overflow": null,
            "overflow_x": null,
            "overflow_y": null,
            "padding": null,
            "right": null,
            "top": null,
            "visibility": null,
            "width": null
          }
        }
      }
    }
  },
  "nbformat": 4,
  "nbformat_minor": 0
}